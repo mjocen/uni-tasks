{
 "cells": [
  {
   "cell_type": "markdown",
   "metadata": {},
   "source": [
    "# Single State Search\n",
    "## Solving Knapsack problem"
   ]
  },
  {
   "cell_type": "markdown",
   "metadata": {},
   "source": [
    "### Imports and Declaration"
   ]
  },
  {
   "cell_type": "code",
   "execution_count": 1,
   "metadata": {},
   "outputs": [],
   "source": [
    "import random\n",
    "import copy\n",
    "import math\n",
    "import queue"
   ]
  },
  {
   "cell_type": "code",
   "execution_count": 2,
   "metadata": {},
   "outputs": [],
   "source": [
    "def generateVals(length, vmax, wmax):\n",
    "    gbValues = []\n",
    "    gbWeights = []\n",
    "\n",
    "    while len(gbValues) < length:\n",
    "        gbValues.append(random.randint(1,vmax))\n",
    "        gbWeights.append(random.randint(1,wmax))\n",
    "        \n",
    "    return gbValues, gbWeights"
   ]
  },
  {
   "cell_type": "code",
   "execution_count": 3,
   "metadata": {},
   "outputs": [],
   "source": [
    "'''\n",
    "Declared global variables for the knapsack problem\n",
    "'''\n",
    "gValues, gWeights = generateVals(50, 75, 50)\n",
    "fullWeight = 500"
   ]
  },
  {
   "cell_type": "code",
   "execution_count": 4,
   "metadata": {},
   "outputs": [
    {
     "name": "stdout",
     "output_type": "stream",
     "text": [
      "List of values of items:  [29, 56, 62, 50, 25, 48, 60, 57, 17, 17, 51, 52, 15, 58, 46, 31, 75, 66, 4, 57, 35, 43, 4, 11, 68, 47, 43, 1, 72, 25, 3, 38, 44, 28, 55, 22, 8, 21, 48, 45, 8, 58, 45, 37, 71, 39, 9, 15, 61, 19]\n",
      "List of weights of items:  [40, 41, 12, 45, 39, 9, 13, 37, 16, 37, 1, 36, 27, 2, 47, 45, 26, 22, 28, 25, 16, 50, 6, 41, 14, 14, 40, 23, 30, 13, 31, 20, 50, 46, 30, 15, 44, 34, 41, 2, 5, 46, 21, 37, 15, 33, 50, 1, 48, 47]\n"
     ]
    }
   ],
   "source": [
    "print(\"List of values of items: \", gValues)\n",
    "print(\"List of weights of items: \", gWeights)"
   ]
  },
  {
   "cell_type": "markdown",
   "metadata": {},
   "source": [
    "## Generic functions used in different methods"
   ]
  },
  {
   "cell_type": "code",
   "execution_count": 5,
   "metadata": {},
   "outputs": [],
   "source": [
    "'''\n",
    "Create random solution\n",
    "input: s <-- size of the list\n",
    "output: [0,1,1,0,0,1]\n",
    "'''\n",
    "def randomSolution(s):\n",
    "    temp = []\n",
    "    for i in range(s):\n",
    "        temp.append(random.randrange(2))\n",
    "        \n",
    "    return temp"
   ]
  },
  {
   "cell_type": "code",
   "execution_count": 6,
   "metadata": {},
   "outputs": [],
   "source": [
    "'''\n",
    "Retrive the total weight and total value of the provided solution\n",
    "input: solution <-- bit-list solution, identifies which items to include in the knapsack\n",
    "output: total weight, total value\n",
    "'''\n",
    "def getWV(solu):\n",
    "    tWeight = 0\n",
    "    tValue = 0\n",
    "    for i in range(len(solu)):\n",
    "        if solu[i] == 1:\n",
    "            tWeight += gWeights[i]\n",
    "            tValue += gValues[i]\n",
    "            \n",
    "    return tWeight, tValue"
   ]
  },
  {
   "cell_type": "code",
   "execution_count": 7,
   "metadata": {},
   "outputs": [],
   "source": [
    "'''\n",
    "Function to determine if the solution fits the constraint for the knapsack problem\n",
    "input: solution <-- bit-list solution, identifies which items to include in the knapsack\n",
    "output: 0 or 1\n",
    "'''\n",
    "def fitnessW(solu):\n",
    "    tempW, tempV = getWV(solu)\n",
    "    if tempW > fullWeight:\n",
    "        return 0\n",
    "    return 1"
   ]
  },
  {
   "cell_type": "code",
   "execution_count": 8,
   "metadata": {},
   "outputs": [],
   "source": [
    "'''\n",
    "Function to flip the last bit of the solution\n",
    "input: solution <-- bit-list solution, identifies which items to include in the knapsack\n",
    "output: solution\n",
    "'''\n",
    "def tweak(sol):\n",
    "    carry = False\n",
    "    for i in reversed(range(len(sol))):\n",
    "        if carry:\n",
    "            if sol[i] > 0:\n",
    "                sol[i] = 0\n",
    "                carry = True\n",
    "            else:\n",
    "                sol[i] = 1\n",
    "                carry = False\n",
    "        else:\n",
    "            if sol[i] > 0:\n",
    "                sol[i] = 0\n",
    "                carry = True\n",
    "            else:\n",
    "                sol[i] = 1\n",
    "                carry = False\n",
    "                break\n",
    "                \n",
    "    return sol"
   ]
  },
  {
   "cell_type": "markdown",
   "metadata": {},
   "source": [
    "## _**Local Search**_"
   ]
  },
  {
   "cell_type": "markdown",
   "metadata": {},
   "source": [
    "#### _Fitness Function_"
   ]
  },
  {
   "cell_type": "code",
   "execution_count": 9,
   "metadata": {},
   "outputs": [],
   "source": [
    "'''\n",
    "No exact fitness calculated but on the comparison of the two solutions.\n",
    "SolutionY is made sure to have passed the constraint for the weight\n",
    "before it can be included in the function\n",
    "input: solutionX, and solutionY <-- bit-list solution, identifies which items to include in the knapsack\n",
    "output: solutionX or solutionY\n",
    "'''\n",
    "def fitnessLS(solX, solY):\n",
    "    xWeight, xValue = getWV(solX)\n",
    "    yWeight, yValue = getWV(solY)\n",
    "    if xWeight > fullWeight:\n",
    "        return solY\n",
    "        \n",
    "    else:\n",
    "        if xValue > yValue:\n",
    "            return solX\n",
    "        else:\n",
    "            return solY"
   ]
  },
  {
   "cell_type": "markdown",
   "metadata": {},
   "source": [
    "#### _Running Local Search_"
   ]
  },
  {
   "cell_type": "code",
   "execution_count": 10,
   "metadata": {},
   "outputs": [],
   "source": [
    "'''\n",
    "Function to flip the last bit of the solution\n",
    "input: size <-- size of the neighborhood\n",
    "        x <-- solution to check neighbor with\n",
    "        best <-- best solution found, will be replaced if there is more fitting solution\n",
    "output: best\n",
    "'''\n",
    "def checkNeighbor(size, x, best):\n",
    "    y = copy.deepcopy(x)\n",
    "    for i in range(size):\n",
    "        y = tweak(y)\n",
    "        best = fitnessLS(y, best)\n",
    "            \n",
    "    return best"
   ]
  },
  {
   "cell_type": "code",
   "execution_count": 11,
   "metadata": {},
   "outputs": [],
   "source": [
    "def localSearch():\n",
    "    proceed = True\n",
    "    stopping = 30\n",
    "    ngbSize = 20\n",
    "    ranX = randomSolution(len(gValues))\n",
    "    while fitnessW(ranX) == 0:\n",
    "        ranX = randomSolution(len(gValues))\n",
    "\n",
    "    bestX = copy.deepcopy(ranX)\n",
    "    bestX = tweak(bestX)\n",
    "    while fitnessW(bestX) == 0:\n",
    "        bestX = tweak(bestX)\n",
    "        \n",
    "    while(proceed and stopping > 0):\n",
    "        bestX = checkNeighbor(ngbSize, ranX, bestX)\n",
    "        xW, xV = getWV(ranX)\n",
    "        bW, bV = getWV(bestX)\n",
    "        if xV < bV:\n",
    "            xV = copy.deepcopy(bV)\n",
    "            proceed = True\n",
    "            stopping = stopping - 1\n",
    "        else:\n",
    "            proceed = False\n",
    "            \n",
    "    print(\"Optimal Solution: \")\n",
    "    for i in range(len(gValues) - 1):\n",
    "        if ranX[i] == 1:\n",
    "            print(\"Item: {}, Value: {}, Weight: {}\".format(i,gValues[i], gWeights[i]))\n",
    "            \n",
    "    print(\"Total Weight and Value: {}\".format(getWV(ranX)))"
   ]
  },
  {
   "cell_type": "code",
   "execution_count": 12,
   "metadata": {},
   "outputs": [
    {
     "name": "stdout",
     "output_type": "stream",
     "text": [
      "Optimal Solution: \n",
      "Item: 0, Value: 29, Weight: 40\n",
      "Item: 2, Value: 62, Weight: 12\n",
      "Item: 3, Value: 50, Weight: 45\n",
      "Item: 5, Value: 48, Weight: 9\n",
      "Item: 6, Value: 60, Weight: 13\n",
      "Item: 11, Value: 52, Weight: 36\n",
      "Item: 13, Value: 58, Weight: 2\n",
      "Item: 14, Value: 46, Weight: 47\n",
      "Item: 18, Value: 4, Weight: 28\n",
      "Item: 20, Value: 35, Weight: 16\n",
      "Item: 22, Value: 4, Weight: 6\n",
      "Item: 30, Value: 3, Weight: 31\n",
      "Item: 32, Value: 44, Weight: 50\n",
      "Item: 34, Value: 55, Weight: 30\n",
      "Item: 36, Value: 8, Weight: 44\n",
      "Item: 37, Value: 21, Weight: 34\n",
      "Item: 40, Value: 8, Weight: 5\n",
      "Item: 46, Value: 9, Weight: 50\n",
      "Total Weight and Value: (498, 596)\n",
      "Wall time: 16 ms\n"
     ]
    }
   ],
   "source": [
    "%%time\n",
    "localSearch()"
   ]
  },
  {
   "cell_type": "markdown",
   "metadata": {},
   "source": [
    "## Simulated Annealing"
   ]
  },
  {
   "cell_type": "markdown",
   "metadata": {},
   "source": [
    "#### _Fitness Function_"
   ]
  },
  {
   "cell_type": "code",
   "execution_count": 13,
   "metadata": {},
   "outputs": [],
   "source": [
    "'''\n",
    "Template provided by Essentials of Metaheuristic\n",
    "Upper bound probability to consider whether to accept solution that is less than\n",
    "the solution being compared to\n",
    "input: t <-- temperature stated for the method\n",
    "        xV <-- total value of solution X\n",
    "        yV <-- total value of solution Y\n",
    "output: probability\n",
    "'''\n",
    "def probAccept(t, xV, yV):\n",
    "    return math.e**((xV - yV) / t)\n",
    "\n",
    "'''\n",
    "Template provided by Essentials of Metaheuristic\n",
    "Fitness function is similar to local search but with probability of accepting solution that\n",
    "is less than the solution being compared to\n",
    "input: t <-- temperature to include in setting probability for accepting solution less than the best\n",
    "        solutionX, and solutionY <-- bit-list solution, identifies which items to include in the knapsack\n",
    "output: solutionX or solutionY\n",
    "'''\n",
    "def fitnessSA(t, solX, solY):\n",
    "    xWeight, xValue = getWV(solX)\n",
    "    yWeight, yValue = getWV(solY)\n",
    "    if xWeight > fullWeight:\n",
    "        return False\n",
    "        \n",
    "    else:\n",
    "        if xValue > yValue or random.uniform(0.0,1.0) < probAccept(t,xValue, yValue):\n",
    "            return True\n",
    "        else:\n",
    "            return False"
   ]
  },
  {
   "cell_type": "markdown",
   "metadata": {},
   "source": [
    "#### _Running Simulated Annealing_"
   ]
  },
  {
   "cell_type": "code",
   "execution_count": 14,
   "metadata": {},
   "outputs": [],
   "source": [
    "def simulatedAnnealing():\n",
    "    temperature = 100\n",
    "    tempDec = 1\n",
    "    \n",
    "    # get random solution until fits criteria\n",
    "    ranXSA = randomSolution(len(gValues))\n",
    "    while fitnessW(ranXSA) == 0:\n",
    "        ranXSA = randomSolution(len(gValues))\n",
    "\n",
    "    # tweak initial solution until fits criteria\n",
    "    bestXSA = copy.deepcopy(ranXSA)\n",
    "        \n",
    "    # run SA\n",
    "    while(temperature > 0):\n",
    "        rsa = tweak(copy.deepcopy(ranXSA))\n",
    "        while fitnessW(rsa) == 0:\n",
    "            rsa = tweak(rsa)\n",
    "            \n",
    "        if fitnessSA(temperature, rsa, ranXSA):\n",
    "            ranXSA = rsa\n",
    "            \n",
    "        temperature = temperature - tempDec\n",
    "        bestW, bestV = getWV(bestXSA)\n",
    "        sW, sV = getWV(ranXSA)\n",
    "        if sV > bestV:\n",
    "            bestXSA = copy.deepcopy(ranXSA)\n",
    "            \n",
    "    \n",
    "    # display optimal solution\n",
    "    print(\"Optimal Solution: \")\n",
    "    for i in range(len(gValues) - 1):\n",
    "        if ranXSA[i] == 1:\n",
    "            print(\"Item: {}, Value: {}, Weight: {}\".format(i,gValues[i], gWeights[i]))\n",
    "            \n",
    "    print(\"Total Weight and Value: {}\".format(getWV(ranXSA)))"
   ]
  },
  {
   "cell_type": "code",
   "execution_count": 15,
   "metadata": {},
   "outputs": [
    {
     "name": "stdout",
     "output_type": "stream",
     "text": [
      "Optimal Solution: \n",
      "Item: 2, Value: 62, Weight: 12\n",
      "Item: 3, Value: 50, Weight: 45\n",
      "Item: 4, Value: 25, Weight: 39\n",
      "Item: 5, Value: 48, Weight: 9\n",
      "Item: 11, Value: 52, Weight: 36\n",
      "Item: 13, Value: 58, Weight: 2\n",
      "Item: 14, Value: 46, Weight: 47\n",
      "Item: 17, Value: 66, Weight: 22\n",
      "Item: 18, Value: 4, Weight: 28\n",
      "Item: 20, Value: 35, Weight: 16\n",
      "Item: 21, Value: 43, Weight: 50\n",
      "Item: 24, Value: 68, Weight: 14\n",
      "Item: 38, Value: 48, Weight: 41\n",
      "Item: 39, Value: 45, Weight: 2\n",
      "Item: 40, Value: 8, Weight: 5\n",
      "Item: 42, Value: 45, Weight: 21\n",
      "Item: 43, Value: 37, Weight: 37\n",
      "Item: 44, Value: 71, Weight: 15\n",
      "Item: 46, Value: 9, Weight: 50\n",
      "Total Weight and Value: (491, 820)\n",
      "Wall time: 43.9 ms\n"
     ]
    }
   ],
   "source": [
    "%%time\n",
    "simulatedAnnealing()"
   ]
  },
  {
   "cell_type": "markdown",
   "metadata": {},
   "source": [
    "## _**Tabu Search**_"
   ]
  },
  {
   "cell_type": "markdown",
   "metadata": {},
   "source": [
    "#### _Fitness Function_"
   ]
  },
  {
   "cell_type": "code",
   "execution_count": 16,
   "metadata": {},
   "outputs": [],
   "source": [
    "'''\n",
    "Template provided by Essentials of Metaheuristic\n",
    "Fitness function is similar to local search\n",
    "input: solutionX, and solutionY <-- bit-list solution, identifies which items to include in the knapsack\n",
    "output: solutionX or solutionY\n",
    "'''\n",
    "def fitnessTS(solX, solY):\n",
    "    xWeight, xValue = getWV(solX)\n",
    "    yWeight, yValue = getWV(solY)\n",
    "    if xWeight > fullWeight:\n",
    "        return False\n",
    "        \n",
    "    else:\n",
    "        if xValue > yValue:\n",
    "            return solX\n",
    "        else:\n",
    "            return solY"
   ]
  },
  {
   "cell_type": "markdown",
   "metadata": {},
   "source": [
    "#### _Running Tabu Search_"
   ]
  },
  {
   "cell_type": "code",
   "execution_count": 17,
   "metadata": {},
   "outputs": [],
   "source": [
    "def tabuSearch():\n",
    "    # initialize tabu list\n",
    "    iterCount = 0\n",
    "    tbSize = len(gValues) \n",
    "    tbList = queue.Queue()\n",
    "    nTweaks = 20\n",
    "    \n",
    "    # get random solution until fits criteria\n",
    "    ranXTS = randomSolution(len(gValues))\n",
    "    while fitnessW(ranXTS) == 0:\n",
    "        ranXTS = randomSolution(len(gValues))\n",
    "\n",
    "    # add initial solution to tabu list\n",
    "    bestXTS = copy.deepcopy(ranXTS)\n",
    "    tbList.put(ranXTS)\n",
    "        \n",
    "    # run tabu search\n",
    "    while(iterCount >= 15):\n",
    "        if tblist.qsize() > tbSize:\n",
    "            tblist.get()\n",
    "            \n",
    "        rts = tweak(copy.deepcopy(ranXTS))\n",
    "\n",
    "        for i in range(nTweaks - 1):\n",
    "            wts = tweak(copy.deepcopy(ranXTS))\n",
    "            if fitnessTS(rts, wts):\n",
    "                rts = copy.deepcopy(wts)\n",
    "                \n",
    "        if rts not in tbList:\n",
    "            ranXTS = copy.deepcopy(rts)\n",
    "            tblist.put(rts)\n",
    "        if fitnessTS(ranXTS, bestXTS):\n",
    "            bestXTS = copy.deepcopy(ranXTS)\n",
    "            iterCount = 0\n",
    "        else:\n",
    "            iterCount += 1\n",
    "        \n",
    "    # display optimal solution\n",
    "    print(\"Optimal Solution: \")\n",
    "    for i in range(len(gValues) - 1):\n",
    "        if ranXTS[i] == 1:\n",
    "            print(\"Item: {}, Value: {}, Weight: {}\".format(i,gValues[i], gWeights[i]))\n",
    "            \n",
    "    print(\"Total Weight and Value: {}\".format(getWV(ranXTS)))"
   ]
  },
  {
   "cell_type": "code",
   "execution_count": 18,
   "metadata": {},
   "outputs": [
    {
     "name": "stdout",
     "output_type": "stream",
     "text": [
      "Optimal Solution: \n",
      "Item: 8, Value: 17, Weight: 16\n",
      "Item: 9, Value: 17, Weight: 37\n",
      "Item: 10, Value: 51, Weight: 1\n",
      "Item: 11, Value: 52, Weight: 36\n",
      "Item: 12, Value: 15, Weight: 27\n",
      "Item: 13, Value: 58, Weight: 2\n",
      "Item: 14, Value: 46, Weight: 47\n",
      "Item: 16, Value: 75, Weight: 26\n",
      "Item: 19, Value: 57, Weight: 25\n",
      "Item: 24, Value: 68, Weight: 14\n",
      "Item: 26, Value: 43, Weight: 40\n",
      "Item: 32, Value: 44, Weight: 50\n",
      "Item: 36, Value: 8, Weight: 44\n",
      "Item: 37, Value: 21, Weight: 34\n",
      "Item: 42, Value: 45, Weight: 21\n",
      "Item: 45, Value: 39, Weight: 33\n",
      "Total Weight and Value: (453, 656)\n",
      "Wall time: 0 ns\n"
     ]
    }
   ],
   "source": [
    "%%time\n",
    "tabuSearch()"
   ]
  }
 ],
 "metadata": {
  "kernelspec": {
   "display_name": "Python 3",
   "language": "python",
   "name": "python3"
  },
  "language_info": {
   "codemirror_mode": {
    "name": "ipython",
    "version": 3
   },
   "file_extension": ".py",
   "mimetype": "text/x-python",
   "name": "python",
   "nbconvert_exporter": "python",
   "pygments_lexer": "ipython3",
   "version": "3.6.1"
  }
 },
 "nbformat": 4,
 "nbformat_minor": 2
}
